{
 "cells": [
  {
   "cell_type": "markdown",
   "metadata": {},
   "source": [
    "Demonstrations for the theory of <a class=\"ProveItLink\" href=\"theory.ipynb\">proveit.linear_algebra.matrices.transposition</a>\n",
    "========"
   ]
  },
  {
   "cell_type": "code",
   "execution_count": null,
   "metadata": {},
   "outputs": [],
   "source": [
    "import proveit\n",
    "from proveit import n\n",
    "from proveit.numbers import two\n",
    "from proveit.linear_algebra.matrices.transposition import unitaries_are_matrices, unitary_unitary_dag, unitary_dag_unitary\n",
    "%begin demonstrations"
   ]
  },
  {
   "cell_type": "markdown",
   "metadata": {},
   "source": [
    "The unitary group $U(n)$ is the group of $n \\times n$ unitary matrices, with the group operation being the usual matrix multiplication.<br />\n",
    "$U(n)$ is a subset of the set $\\mathbb{C}^{2 \\times 2}$ of all $n \\times n$ complex matrices."
   ]
  },
  {
   "cell_type": "code",
   "execution_count": null,
   "metadata": {},
   "outputs": [],
   "source": [
    "unitaries_are_matrices"
   ]
  },
  {
   "cell_type": "markdown",
   "metadata": {},
   "source": [
    "For example, the group of $2 \\times 2$ unitary matrices is a subset of the set of all $2 \\times 2$ complex matrices:"
   ]
  },
  {
   "cell_type": "code",
   "execution_count": null,
   "metadata": {},
   "outputs": [],
   "source": [
    "unitaries_are_matrices.instantiate({n:two})"
   ]
  },
  {
   "cell_type": "markdown",
   "metadata": {},
   "source": [
    "By definition, the adjoint of unitary $U$ is the inverse of $U$, giving $UU^{\\dagger} = U^{\\dagger}U = \\mathbb{1}_{n}$. For $n = 2$, we have:"
   ]
  },
  {
   "cell_type": "code",
   "execution_count": null,
   "metadata": {},
   "outputs": [],
   "source": [
    "unitary_unitary_dag.instantiate({n:two})"
   ]
  },
  {
   "cell_type": "code",
   "execution_count": null,
   "metadata": {},
   "outputs": [],
   "source": [
    "unitary_dag_unitary.instantiate({n:two})"
   ]
  },
  {
   "cell_type": "code",
   "execution_count": null,
   "metadata": {},
   "outputs": [],
   "source": [
    "%end demonstrations"
   ]
  }
 ],
 "metadata": {
  "kernelspec": {
   "display_name": "Python 3 (ipykernel)",
   "language": "python",
   "name": "python3"
  }
 },
 "nbformat": 4,
 "nbformat_minor": 0
}
