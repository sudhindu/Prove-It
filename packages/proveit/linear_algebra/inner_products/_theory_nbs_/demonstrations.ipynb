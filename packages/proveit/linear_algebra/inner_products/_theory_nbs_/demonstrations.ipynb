{
 "cells": [
  {
   "cell_type": "markdown",
   "metadata": {},
   "source": [
    "Demonstrations for the theory of <a class=\"ProveItLink\" href=\"theory.ipynb\">proveit.linear_algebra.inner_products</a>\n",
    "========"
   ]
  },
  {
   "cell_type": "code",
   "execution_count": null,
   "metadata": {},
   "outputs": [],
   "source": [
    "import proveit\n",
    "from proveit import defaults\n",
    "from proveit.numbers import Complex, NaturalPos, Real\n",
    "from proveit.linear_algebra import VecSpaces, InnerProdSpaces, HilbertSpaces, InnerProd\n",
    "from proveit import m, n, v, w, x, y, K, H, P, U\n",
    "from proveit.linear_algebra.inner_products import inner_prod_field_membership, inner_prod_complex_membership\n",
    "from proveit.logic import CartExp, Equals, InClass, InSet\n",
    "%begin demonstrations"
   ]
  },
  {
   "cell_type": "code",
   "execution_count": null,
   "metadata": {},
   "outputs": [],
   "source": [
    "defaults.assumptions=[InClass(P,InnerProdSpaces(K)),InClass(U,HilbertSpaces)]"
   ]
  },
  {
   "cell_type": "markdown",
   "metadata": {},
   "source": [
    "#### Testing the instantiation of some theorems underlying important `InnerProd` methods."
   ]
  },
  {
   "cell_type": "code",
   "execution_count": null,
   "metadata": {},
   "outputs": [],
   "source": [
    "inner_prod_field_membership.instantiate({H:P,x:n,y:w})"
   ]
  },
  {
   "cell_type": "code",
   "execution_count": null,
   "metadata": {},
   "outputs": [],
   "source": [
    "inner_prod_complex_membership.instantiate({H:U,x:n,y:w})"
   ]
  },
  {
   "cell_type": "markdown",
   "metadata": {},
   "source": [
    "#### Testing `InnerProd` and `InnerProdSpaces` methods."
   ]
  },
  {
   "cell_type": "code",
   "execution_count": null,
   "metadata": {},
   "outputs": [],
   "source": [
    "defaults.assumptions = [InSet(n, NaturalPos), InSet(v, CartExp(Complex, n)), InSet(w, CartExp(Complex, n))]"
   ]
  },
  {
   "cell_type": "code",
   "execution_count": null,
   "metadata": {},
   "outputs": [],
   "source": [
    "vec_space_claim = CartExp(Complex, n).deduce_as_vec_space()"
   ]
  },
  {
   "cell_type": "code",
   "execution_count": null,
   "metadata": {},
   "outputs": [],
   "source": [
    "vec_space_claim.rhs.field"
   ]
  },
  {
   "cell_type": "code",
   "execution_count": null,
   "metadata": {},
   "outputs": [],
   "source": [
    "from proveit.linear_algebra.vector_spaces import including_vec_space\n",
    "supposed_vec_space = including_vec_space(CartExp(Complex, n), field=Complex)"
   ]
  },
  {
   "cell_type": "code",
   "execution_count": null,
   "metadata": {},
   "outputs": [],
   "source": [
    "# WW thought this would lead to an error without more work in the including_vec_space() method\n",
    "supposed_vec_space_Rn = including_vec_space(CartExp(Real, n), field=Complex)"
   ]
  },
  {
   "cell_type": "code",
   "execution_count": null,
   "metadata": {},
   "outputs": [],
   "source": [
    "# notice here that the supposed vec space is just a set without any associated field:\n",
    "try:\n",
    "    some_field = supposed_vec_space.field\n",
    "except Exception as the_exception:\n",
    "    print(f'{the_exception}')"
   ]
  },
  {
   "cell_type": "code",
   "execution_count": null,
   "metadata": {},
   "outputs": [],
   "source": [
    "InnerProd(v, w)"
   ]
  },
  {
   "cell_type": "code",
   "execution_count": null,
   "metadata": {},
   "outputs": [],
   "source": [
    "defaults.assumptions = [InSet(n, NaturalPos), InSet(v, CartExp(Complex, n)), InSet(w, CartExp(Complex, n))]"
   ]
  },
  {
   "cell_type": "code",
   "execution_count": null,
   "metadata": {},
   "outputs": [],
   "source": [
    "set(VecSpaces.yield_known_vec_spaces(v))"
   ]
  },
  {
   "cell_type": "code",
   "execution_count": null,
   "metadata": {},
   "outputs": [],
   "source": [
    "set(VecSpaces.yield_known_vec_spaces(w))"
   ]
  },
  {
   "cell_type": "code",
   "execution_count": null,
   "metadata": {},
   "outputs": [],
   "source": [
    "list(InnerProdSpaces.yield_known_inner_prod_spaces(v))"
   ]
  },
  {
   "cell_type": "code",
   "execution_count": null,
   "metadata": {},
   "outputs": [],
   "source": [
    "# and we continue to get into trouble trying to get a field from a set, even\n",
    "# if the set is acknowledged to be (in some sense) a VecSpace\n",
    "try:\n",
    "    InnerProd(v, w).deduce_membership(\n",
    "            Complex,\n",
    "            assumptions=[InSet(n, NaturalPos), InSet(v, CartExp(Complex, n)), InSet(w, CartExp(Complex, n))])\n",
    "except Exception as the_exception:\n",
    "    print(f'{the_exception}')"
   ]
  },
  {
   "cell_type": "code",
   "execution_count": null,
   "metadata": {},
   "outputs": [],
   "source": [
    "%end demonstrations"
   ]
  }
 ],
 "metadata": {
  "kernelspec": {
   "display_name": "Python 3 (ipykernel)",
   "language": "python",
   "name": "python3"
  }
 },
 "nbformat": 4,
 "nbformat_minor": 0
}
