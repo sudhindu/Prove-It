{
 "cells": [
  {
   "cell_type": "markdown",
   "metadata": {},
   "source": [
    "Proof of <a class=\"ProveItLink\" href=\"../../../../../../_theory_nbs_/theory.ipynb\">proveit</a>.<a class=\"ProveItLink\" href=\"../../../../../_theory_nbs_/theory.ipynb\">physics</a>.<a class=\"ProveItLink\" href=\"../../../../_theory_nbs_/theory.ipynb\">quantum</a>.<a class=\"ProveItLink\" href=\"../../theory.ipynb\">algebra</a>.<a class=\"ProveItLink\" href=\"../../theorems.ipynb#qmult_of_bra_as_map\">qmult_of_bra_as_map</a> theorem\n",
    "========"
   ]
  },
  {
   "cell_type": "code",
   "execution_count": null,
   "metadata": {},
   "outputs": [],
   "source": [
    "import proveit\n",
    "from proveit import defaults\n",
    "from proveit.physics.quantum.algebra import qmult_of_bra_as_map,qmult_of_bra,bra_def\n",
    "from proveit.physics.quantum import (\n",
    "    Qmult, Bra, Ket, NumBra, NumKet, ket0, ket1, bra0, bra1, m_ket_domain,\n",
    "    psi, varphi, ket_psi, ket_varphi, bra_varphi, \n",
    "    var_ket_psi, var_ket_varphi, var_ket_v, QubitSpace, QubitRegisterSpace)\n",
    "from proveit.linear_algebra import VecAdd, MatrixSpace, Hspace\n",
    "from proveit import alpha, beta, gamma, delta, j, m, n, b, c, A, B, C, D,H,a,X,Y\n",
    "from proveit.logic import Forall, InSet, CartExp, InClass,Equals\n",
    "from proveit.numbers import Complex, NaturalPos,one\n",
    "\n",
    "theory = proveit.Theory() # the theorem's theory"
   ]
  },
  {
   "cell_type": "code",
   "execution_count": null,
   "metadata": {},
   "outputs": [],
   "source": [
    "%proving qmult_of_bra_as_map"
   ]
  },
  {
   "cell_type": "code",
   "execution_count": null,
   "metadata": {},
   "outputs": [],
   "source": [
    "#defaults.assumptions=qmult_of_bra_as_map.all_conditions()"
   ]
  },
  {
   "cell_type": "code",
   "execution_count": null,
   "metadata": {},
   "outputs": [],
   "source": [
    "#defaults.assumptions+=[InSet(n, NaturalPos),InSet(ket_varphi, CartExp(Complex, n))]"
   ]
  },
  {
   "cell_type": "code",
   "execution_count": null,
   "metadata": {},
   "outputs": [],
   "source": [
    "bra_def"
   ]
  },
  {
   "cell_type": "code",
   "execution_count": null,
   "metadata": {},
   "outputs": [],
   "source": [
    "qmult_of_bra"
   ]
  },
  {
   "cell_type": "code",
   "execution_count": null,
   "metadata": {},
   "outputs": [],
   "source": [
    "#bra_def_instance=bra_def.instantiate({Hspace:CartExp(Complex,n),varphi:varphi})"
   ]
  },
  {
   "cell_type": "code",
   "execution_count": null,
   "metadata": {},
   "outputs": [],
   "source": [
    "#qmult_of_bra_instance=qmult_of_bra.instantiate({Hspace:CartExp(Complex,n),varphi:varphi},auto_simplify=False)"
   ]
  },
  {
   "cell_type": "code",
   "execution_count": null,
   "metadata": {},
   "outputs": [],
   "source": [
    "#qmult_of_bra_instance.apply_transitivities([bra_def_instance])"
   ]
  },
  {
   "cell_type": "code",
   "execution_count": null,
   "metadata": {},
   "outputs": [],
   "source": [
    "%qed"
   ]
  },
  {
   "cell_type": "code",
   "execution_count": null,
   "metadata": {},
   "outputs": [],
   "source": []
  }
 ],
 "metadata": {
  "kernelspec": {
   "display_name": "Python 3 (ipykernel)",
   "language": "python",
   "name": "python3"
  }
 },
 "nbformat": 4,
 "nbformat_minor": 0
}
